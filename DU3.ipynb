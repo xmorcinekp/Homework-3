{
  "nbformat": 4,
  "nbformat_minor": 5,
  "metadata": {
    "accelerator": "GPU",
    "colab": {
      "name": "DU3.ipynb",
      "provenance": [],
      "collapsed_sections": [],
      "include_colab_link": true
    },
    "kernelspec": {
      "display_name": "Python 3 (ipykernel)",
      "language": "python",
      "name": "python3"
    },
    "language_info": {
      "codemirror_mode": {
        "name": "ipython",
        "version": 3
      },
      "file_extension": ".py",
      "mimetype": "text/x-python",
      "name": "python",
      "nbconvert_exporter": "python",
      "pygments_lexer": "ipython3",
      "version": "3.8.9"
    }
  },
  "cells": [
    {
      "cell_type": "markdown",
      "metadata": {
        "id": "view-in-github",
        "colab_type": "text"
      },
      "source": [
        "<a href=\"https://colab.research.google.com/github/xmorcinekp/Homework-3/blob/main/DU3.ipynb\" target=\"_parent\"><img src=\"https://colab.research.google.com/assets/colab-badge.svg\" alt=\"Open In Colab\"/></a>"
      ]
    },
    {
      "cell_type": "markdown",
      "metadata": {
        "id": "a0f8e486"
      },
      "source": [
        "# DU3 - Pavel Morcinek\n",
        "\n",
        "This notebook demonstrates how to use `genomic_benchmarks` to train a neural network classifier on one of its benchmark datasets [human_enhancers_cohn](https://github.com/ML-Bioinfo-CEITEC/genomic_benchmarks/tree/main/docs/human_enhancers_cohn)."
      ],
      "id": "a0f8e486"
    },
    {
      "cell_type": "code",
      "metadata": {
        "id": "akPONjEhhr9m"
      },
      "source": [
        "#If you work in Google Colaboratory - uncomment the following line to install the package to your virtual machine  \n",
        "!pip install tensorflow_addons genomic-benchmarks"
      ],
      "id": "akPONjEhhr9m",
      "execution_count": null,
      "outputs": []
    },
    {
      "cell_type": "markdown",
      "metadata": {
        "id": "3a06a600"
      },
      "source": [
        "# Data download\n",
        "\n",
        "With the function `download_dataset` downloads, we can download full-sequence form of the benchmark, splitted into train and test sets, one folder for each class."
      ],
      "id": "3a06a600"
    },
    {
      "cell_type": "code",
      "metadata": {
        "id": "1a57e0d2",
        "colab": {
          "base_uri": "https://localhost:8080/"
        },
        "outputId": "e86b2d5a-0ec5-41b9-9f14-25dc00e85559"
      },
      "source": [
        "from pathlib import Path\n",
        "import tensorflow as tf\n",
        "import numpy as np\n",
        "\n",
        "import tensorflow_addons as tfa\n",
        "from tensorflow.keras.layers import (\n",
        "    BatchNormalization,\n",
        "    Conv1D,\n",
        "    Dense,\n",
        "    Dropout,\n",
        "    GlobalAveragePooling1D,\n",
        "    MaxPooling1D,\n",
        ")\n",
        "from tensorflow.keras.layers.experimental.preprocessing import TextVectorization\n",
        "\n",
        "from genomic_benchmarks.loc2seq import download_dataset\n",
        "from genomic_benchmarks.data_check import is_downloaded, info\n",
        "from genomic_benchmarks.models.tf import vectorize_layer, binary_f1_score\n",
        "from genomic_benchmarks.models.tf import basic_cnn_model_v0 as model # this can be rewritten\n",
        "\n",
        "if not is_downloaded('human_enhancers_cohn'):\n",
        "    download_dataset('human_enhancers_cohn')"
      ],
      "id": "1a57e0d2",
      "execution_count": 2,
      "outputs": [
        {
          "output_type": "stream",
          "name": "stderr",
          "text": [
            "/usr/local/lib/python3.7/dist-packages/genomic_benchmarks/utils/datasets.py:11: TqdmExperimentalWarning: Using `tqdm.autonotebook.tqdm` in notebook mode. Use `tqdm.tqdm` instead to force console mode (e.g. in jupyter console)\n",
            "  from tqdm.autonotebook import tqdm\n"
          ]
        },
        {
          "output_type": "stream",
          "name": "stdout",
          "text": [
            "Downloading 176563cDPQ5Y094WyoSBF02QjoVQhWuCh into /root/.genomic_benchmarks/human_enhancers_cohn.zip... "
          ]
        },
        {
          "output_type": "stream",
          "name": "stderr",
          "text": [
            "/usr/local/lib/python3.7/dist-packages/genomic_benchmarks/utils/datasets.py:50: UserWarning: No version specified. Using version 0.\n",
            "  warnings.warn(f\"No version specified. Using version {metadata['version']}.\")\n"
          ]
        },
        {
          "output_type": "stream",
          "name": "stdout",
          "text": [
            "Done.\n",
            "Unzipping...Done.\n"
          ]
        }
      ]
    },
    {
      "cell_type": "code",
      "metadata": {
        "id": "ogMok-ZuoLRZ"
      },
      "source": [
        "# !ls /root/.genomic_benchmarks/human_enhancers_cohn/train/positive"
      ],
      "id": "ogMok-ZuoLRZ",
      "execution_count": 3,
      "outputs": []
    },
    {
      "cell_type": "code",
      "metadata": {
        "colab": {
          "base_uri": "https://localhost:8080/",
          "height": 203
        },
        "id": "ef313c21",
        "outputId": "ea43f03e-86bc-48f0-c0af-28925732ea33"
      },
      "source": [
        "info('human_enhancers_cohn', 0)"
      ],
      "id": "ef313c21",
      "execution_count": 4,
      "outputs": [
        {
          "output_type": "stream",
          "name": "stdout",
          "text": [
            "Dataset `human_enhancers_cohn` has 2 classes: negative, positive.\n",
            "\n",
            "All lenghts of genomic intervals equals 500.\n",
            "\n",
            "Totally 27791 sequences have been found, 20843 for training and 6948 for testing.\n"
          ]
        },
        {
          "output_type": "execute_result",
          "data": {
            "text/html": [
              "<div>\n",
              "<style scoped>\n",
              "    .dataframe tbody tr th:only-of-type {\n",
              "        vertical-align: middle;\n",
              "    }\n",
              "\n",
              "    .dataframe tbody tr th {\n",
              "        vertical-align: top;\n",
              "    }\n",
              "\n",
              "    .dataframe thead th {\n",
              "        text-align: right;\n",
              "    }\n",
              "</style>\n",
              "<table border=\"1\" class=\"dataframe\">\n",
              "  <thead>\n",
              "    <tr style=\"text-align: right;\">\n",
              "      <th></th>\n",
              "      <th>train</th>\n",
              "      <th>test</th>\n",
              "    </tr>\n",
              "  </thead>\n",
              "  <tbody>\n",
              "    <tr>\n",
              "      <th>negative</th>\n",
              "      <td>10422</td>\n",
              "      <td>3474</td>\n",
              "    </tr>\n",
              "    <tr>\n",
              "      <th>positive</th>\n",
              "      <td>10421</td>\n",
              "      <td>3474</td>\n",
              "    </tr>\n",
              "  </tbody>\n",
              "</table>\n",
              "</div>"
            ],
            "text/plain": [
              "          train  test\n",
              "negative  10422  3474\n",
              "positive  10421  3474"
            ]
          },
          "metadata": {},
          "execution_count": 4
        }
      ]
    },
    {
      "cell_type": "markdown",
      "metadata": {
        "id": "hAQ4umFDR1ZS"
      },
      "source": [
        "**Definition of model**"
      ],
      "id": "hAQ4umFDR1ZS"
    },
    {
      "cell_type": "code",
      "metadata": {
        "id": "xLKTaStKlAg3"
      },
      "source": [
        "character_split_fn = lambda x: tf.strings.unicode_split(x, \"UTF-8\")\n",
        "vectorize_layer = TextVectorization(output_mode=\"int\", split=character_split_fn)\n",
        "\n",
        "# one-hot encoding\n",
        "onehot_layer = tf.keras.layers.Lambda(lambda x: tf.one_hot(tf.cast(x, \"int64\"), 4))\n"
      ],
      "id": "xLKTaStKlAg3",
      "execution_count": 5,
      "outputs": []
    },
    {
      "cell_type": "code",
      "metadata": {
        "id": "bZSNMbUVlCw3"
      },
      "source": [
        "# Binary F1 score\n",
        "binary_f1_score = tfa.metrics.F1Score(num_classes=1, threshold=0.75, average=\"micro\")\n",
        "\n",
        "model_original = tf.keras.Sequential(\n",
        "    [\n",
        "        onehot_layer,\n",
        "        Conv1D(32, kernel_size=8, data_format=\"channels_last\", activation=\"relu\"),\n",
        "        BatchNormalization(),\n",
        "        MaxPooling1D(),\n",
        "        Conv1D(16, kernel_size=8, data_format=\"channels_last\", activation=\"relu\"),\n",
        "        BatchNormalization(),\n",
        "        MaxPooling1D(),\n",
        "        Conv1D(4, kernel_size=8, data_format=\"channels_last\", activation=\"relu\"),\n",
        "        BatchNormalization(),\n",
        "        MaxPooling1D(),\n",
        "        Dropout(0.3),\n",
        "        GlobalAveragePooling1D(),\n",
        "        Dense(1),\n",
        "    ]\n",
        ")\n",
        "\n",
        "# architecrure changed:\n",
        "\n",
        "model_2 = tf.keras.Sequential(\n",
        "    [\n",
        "        onehot_layer,\n",
        "        Conv1D(32, kernel_size=8, data_format=\"channels_last\", activation=\"relu\"),\n",
        "        BatchNormalization(),\n",
        "        MaxPooling1D(),\n",
        "        Conv1D(32, kernel_size=8, data_format=\"channels_last\", activation=\"relu\"),\n",
        "        BatchNormalization(),\n",
        "        MaxPooling1D(),\n",
        "        Conv1D(16, kernel_size=8, data_format=\"channels_last\", activation=\"relu\"),\n",
        "        BatchNormalization(),\n",
        "        MaxPooling1D(),\n",
        "        Conv1D(8, kernel_size=8, data_format=\"channels_last\", activation=\"relu\"),\n",
        "        BatchNormalization(),\n",
        "        MaxPooling1D(),\n",
        "        Dropout(0.1),\n",
        "        GlobalAveragePooling1D(),\n",
        "        Dense(1),\n",
        "    ]\n",
        ")\n",
        "\n",
        "model = model_2"
      ],
      "id": "bZSNMbUVlCw3",
      "execution_count": 18,
      "outputs": []
    },
    {
      "cell_type": "markdown",
      "metadata": {
        "id": "f4ce24e0"
      },
      "source": [
        "## TF Dataset object\n",
        "\n",
        "To train the model with TensorFlow, we must create a TF Dataset. Because the directory structure of our benchmarks is ready for training, we can just call `tf.keras.preprocessing.text_dataset_from_directory` function as follows."
      ],
      "id": "f4ce24e0"
    },
    {
      "cell_type": "code",
      "metadata": {
        "colab": {
          "base_uri": "https://localhost:8080/"
        },
        "id": "409118c7",
        "outputId": "6933dea5-02e3-486d-baf2-a54fdcc511f2"
      },
      "source": [
        "BATCH_SIZE = 64  # original\n",
        "BATCH_SIZE = 128 # modification\n",
        "SEQ_PATH = Path.home() / '.genomic_benchmarks' / 'human_enhancers_cohn'\n",
        "CLASSES = [x.stem for x in (SEQ_PATH/'train').iterdir() if x.is_dir()]\n",
        "\n",
        "train_dset = tf.keras.preprocessing.text_dataset_from_directory(\n",
        "    SEQ_PATH / 'train',\n",
        "    batch_size=BATCH_SIZE,\n",
        "    class_names=CLASSES)"
      ],
      "id": "409118c7",
      "execution_count": 19,
      "outputs": [
        {
          "output_type": "stream",
          "name": "stdout",
          "text": [
            "Found 20843 files belonging to 2 classes.\n"
          ]
        }
      ]
    },
    {
      "cell_type": "markdown",
      "metadata": {
        "id": "ef9706c8"
      },
      "source": [
        "## Text vectorization\n",
        "\n",
        "To convert the strings to tensors, we internally use TF `TextVectorization` layer and splitting to characters."
      ],
      "id": "ef9706c8"
    },
    {
      "cell_type": "code",
      "metadata": {
        "colab": {
          "base_uri": "https://localhost:8080/"
        },
        "id": "60ac5547",
        "outputId": "530dbfae-17a6-487b-b990-b6f49747d348"
      },
      "source": [
        "vectorize_layer.adapt(train_dset.map(lambda x, y: x))\n",
        "#vectorize_layer.set_vocabulary(vocabulary=np.asarray(['a', 'c', 't', 'g', 'n']))\n",
        "vectorize_layer.get_vocabulary()"
      ],
      "id": "60ac5547",
      "execution_count": 20,
      "outputs": [
        {
          "output_type": "execute_result",
          "data": {
            "text/plain": [
              "['', '[UNK]', 't', 'a', 'c', 'g']"
            ]
          },
          "metadata": {},
          "execution_count": 20
        }
      ]
    },
    {
      "cell_type": "code",
      "metadata": {
        "id": "6a5c8a30"
      },
      "source": [
        "def vectorize_text(text, label):\n",
        "  text = tf.expand_dims(text, -1)\n",
        "  return vectorize_layer(text)-2, label\n",
        "\n",
        "train_ds = train_dset.map(vectorize_text)"
      ],
      "id": "6a5c8a30",
      "execution_count": 21,
      "outputs": []
    },
    {
      "cell_type": "markdown",
      "metadata": {
        "id": "2216d2dd"
      },
      "source": [
        "## Model training\n",
        "\n",
        "To get a baseline (other models can be compared to) we ship a package with [a simple CNN model](https://github.com/ML-Bioinfo-CEITEC/genomic_benchmarks/blob/main/src/genomic_benchmarks/models/tf.py). We have vectorized the dataset before training the model to speed up the process."
      ],
      "id": "2216d2dd"
    },
    {
      "cell_type": "code",
      "metadata": {
        "id": "2fbf777e"
      },
      "source": [
        "model.compile(loss=tf.keras.losses.BinaryCrossentropy(from_logits=True),\n",
        "              optimizer='adam',\n",
        "              metrics=[tf.metrics.BinaryAccuracy(threshold=0.0), binary_f1_score])"
      ],
      "id": "2fbf777e",
      "execution_count": 22,
      "outputs": []
    },
    {
      "cell_type": "code",
      "metadata": {
        "colab": {
          "base_uri": "https://localhost:8080/"
        },
        "id": "57ae2ebd",
        "outputId": "017815ae-fe1f-4def-e9c1-7d6f8ae53a60"
      },
      "source": [
        "EPOCHS = 10 # original\n",
        "EPOCHS = 20 # modified\n",
        "\n",
        "history = model.fit(\n",
        "    train_ds,\n",
        "    epochs=EPOCHS)"
      ],
      "id": "57ae2ebd",
      "execution_count": 23,
      "outputs": [
        {
          "output_type": "stream",
          "name": "stdout",
          "text": [
            "Epoch 1/20\n",
            "163/163 [==============================] - 11s 53ms/step - loss: 0.5853 - binary_accuracy: 0.6854 - f1_score: 0.5374\n",
            "Epoch 2/20\n",
            "163/163 [==============================] - 8s 49ms/step - loss: 0.5466 - binary_accuracy: 0.7169 - f1_score: 0.5968\n",
            "Epoch 3/20\n",
            "163/163 [==============================] - 8s 50ms/step - loss: 0.5254 - binary_accuracy: 0.7352 - f1_score: 0.6302\n",
            "Epoch 4/20\n",
            "163/163 [==============================] - 8s 49ms/step - loss: 0.5065 - binary_accuracy: 0.7488 - f1_score: 0.6546\n",
            "Epoch 5/20\n",
            "163/163 [==============================] - 8s 50ms/step - loss: 0.4892 - binary_accuracy: 0.7608 - f1_score: 0.6767\n",
            "Epoch 6/20\n",
            "163/163 [==============================] - 8s 50ms/step - loss: 0.4655 - binary_accuracy: 0.7771 - f1_score: 0.6963\n",
            "Epoch 7/20\n",
            "163/163 [==============================] - 8s 50ms/step - loss: 0.4450 - binary_accuracy: 0.7950 - f1_score: 0.7146\n",
            "Epoch 8/20\n",
            "163/163 [==============================] - 9s 51ms/step - loss: 0.4233 - binary_accuracy: 0.8068 - f1_score: 0.7392\n",
            "Epoch 9/20\n",
            "163/163 [==============================] - 9s 53ms/step - loss: 0.3999 - binary_accuracy: 0.8181 - f1_score: 0.7600\n",
            "Epoch 10/20\n",
            "163/163 [==============================] - 9s 53ms/step - loss: 0.3754 - binary_accuracy: 0.8351 - f1_score: 0.7804\n",
            "Epoch 11/20\n",
            "163/163 [==============================] - 9s 55ms/step - loss: 0.3563 - binary_accuracy: 0.8435 - f1_score: 0.7962\n",
            "Epoch 12/20\n",
            "163/163 [==============================] - 9s 53ms/step - loss: 0.3346 - binary_accuracy: 0.8551 - f1_score: 0.8139\n",
            "Epoch 13/20\n",
            "163/163 [==============================] - 9s 54ms/step - loss: 0.3166 - binary_accuracy: 0.8644 - f1_score: 0.8233\n",
            "Epoch 14/20\n",
            "163/163 [==============================] - 9s 54ms/step - loss: 0.2960 - binary_accuracy: 0.8740 - f1_score: 0.8441\n",
            "Epoch 15/20\n",
            "163/163 [==============================] - 9s 55ms/step - loss: 0.2848 - binary_accuracy: 0.8810 - f1_score: 0.8487\n",
            "Epoch 16/20\n",
            "163/163 [==============================] - 9s 55ms/step - loss: 0.2643 - binary_accuracy: 0.8914 - f1_score: 0.8600\n",
            "Epoch 17/20\n",
            "163/163 [==============================] - 9s 54ms/step - loss: 0.2492 - binary_accuracy: 0.8976 - f1_score: 0.8727\n",
            "Epoch 18/20\n",
            "163/163 [==============================] - 9s 53ms/step - loss: 0.2357 - binary_accuracy: 0.9034 - f1_score: 0.8810\n",
            "Epoch 19/20\n",
            "163/163 [==============================] - 9s 52ms/step - loss: 0.2170 - binary_accuracy: 0.9111 - f1_score: 0.8905\n",
            "Epoch 20/20\n",
            "163/163 [==============================] - 9s 53ms/step - loss: 0.2114 - binary_accuracy: 0.9154 - f1_score: 0.8920\n"
          ]
        }
      ]
    },
    {
      "cell_type": "markdown",
      "metadata": {
        "id": "BO-CwF2AmTbn"
      },
      "source": [
        "**Original model**: \n",
        "\n",
        "0.8057 (binary_accuracy), 0.7719 (f1_score)\n",
        "\n",
        "**Modification 1**:\n",
        "\n",
        "*(batch size 128 instead of original 64)*\n",
        "\n",
        "0.8417 (binary_accuracy), 0.8161 (f1_score)\n",
        "\n",
        "**Modification 2**:\n",
        "\n",
        "*(batch size 128, 20 epoches)*\n",
        "\n",
        "0.8560 (binary_accuracy), 0.8340 (f1_score)\n",
        "\n",
        "**Modification 3**:\n",
        "\n",
        "*(batch size 128, 20 epoches, treshold 0.75)*\n",
        "\n",
        "0.8670 (binary_accuracy), 0.8528 (f1_score)\n",
        "\n",
        "**Modification 4**:\n",
        "\n",
        "*(batch size 128, 20 epoches, treshold 0.75, model 2)*\n",
        "\n",
        "0.8840 (binary_accuracy), 0.8594 (f1_score)\n",
        "\n",
        "**Modification 5**:\n",
        "\n",
        "*(batch size 128, 20 epoches, treshold 0.75, model 2, dropout 0.1)*\n",
        "\n",
        "0.9014 (binary_accuracy), 0.8800 (f1_score)"
      ],
      "id": "BO-CwF2AmTbn"
    },
    {
      "cell_type": "markdown",
      "metadata": {
        "id": "5bae33fa"
      },
      "source": [
        "## Evaluation on the test set\n",
        "\n",
        "Finally, we can do the same pre-processing for the test set and evaluate the F1 score of our model."
      ],
      "id": "5bae33fa"
    },
    {
      "cell_type": "code",
      "metadata": {
        "colab": {
          "base_uri": "https://localhost:8080/"
        },
        "id": "38e009a1",
        "outputId": "2da804d8-af4f-4d54-a4d3-e02a5f582452"
      },
      "source": [
        "test_dset = tf.keras.preprocessing.text_dataset_from_directory(\n",
        "    SEQ_PATH / 'test',\n",
        "    batch_size=BATCH_SIZE,\n",
        "    class_names=CLASSES,\n",
        "    shuffle=False)\n",
        "\n",
        "test_ds = test_dset.map(vectorize_text)"
      ],
      "id": "38e009a1",
      "execution_count": 24,
      "outputs": [
        {
          "output_type": "stream",
          "name": "stdout",
          "text": [
            "Found 6948 files belonging to 2 classes.\n"
          ]
        }
      ]
    },
    {
      "cell_type": "code",
      "metadata": {
        "id": "b7ec77f5",
        "colab": {
          "base_uri": "https://localhost:8080/"
        },
        "outputId": "34527027-0663-4458-bbd0-b477cc9f1190"
      },
      "source": [
        "model.evaluate(test_ds)"
      ],
      "id": "b7ec77f5",
      "execution_count": 25,
      "outputs": [
        {
          "output_type": "stream",
          "name": "stdout",
          "text": [
            "55/55 [==============================] - 3s 46ms/step - loss: 0.9901 - binary_accuracy: 0.6567 - f1_score: 0.6625\n"
          ]
        },
        {
          "output_type": "execute_result",
          "data": {
            "text/plain": [
              "[0.9901401996612549, 0.6567357778549194, 0.6625360250473022]"
            ]
          },
          "metadata": {},
          "execution_count": 25
        }
      ]
    },
    {
      "cell_type": "markdown",
      "metadata": {
        "id": "J_R6QRRAVklK"
      },
      "source": [
        "**Original:**\n",
        "\n",
        "0.7012 *(binary_accuracy)*, 0.6755 *(f1_score)*\n",
        "\n",
        "**Modified:** (best result)\n",
        "\n",
        "0.6357 *(binary_accuracy)*, 0.7265 *(f1_score)*"
      ],
      "id": "J_R6QRRAVklK"
    }
  ]
}